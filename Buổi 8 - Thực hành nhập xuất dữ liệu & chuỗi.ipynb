{
 "cells": [
  {
   "cell_type": "markdown",
   "id": "5bc93fb0",
   "metadata": {},
   "source": [
    "# Thực hành nhập xuất dữ liệu & chuỗi\n",
    "\n",
    "### Bài tập tra cứu lệnh\n",
    "\n",
    "Nhập vào một chuỗi, kiểm tra xem chuỗi đó có ký tự nào là chữ in hoa hay không, nếu có thì in True, không có thì in False"
   ]
  },
  {
   "cell_type": "code",
   "execution_count": 7,
   "id": "4b3df2ba",
   "metadata": {},
   "outputs": [
    {
     "name": "stdout",
     "output_type": "stream",
     "text": [
      "Nhap mot chuoi: ajhsbfjahsfb\n",
      "Chuoi co ki tu in hoa: False\n"
     ]
    }
   ],
   "source": [
    "a = input(\"Nhap mot chuoi: \")\n",
    "b = a\n",
    "c = a !=b.lower()\n",
    "\n",
    "print(f\"Chuoi co ki tu in hoa: {c}\")\n"
   ]
  },
  {
   "cell_type": "markdown",
   "id": "e14eae7c",
   "metadata": {},
   "source": [
    "Nhập vào một chuỗi, kiểm tra xem chuỗi đó có ký tự nào là chữ in thường hay không, nếu có thì in True, không có thì in False"
   ]
  },
  {
   "cell_type": "code",
   "execution_count": 10,
   "id": "ab00180c",
   "metadata": {},
   "outputs": [
    {
     "name": "stdout",
     "output_type": "stream",
     "text": [
      "Nhap mot chuoi: JHGVGHVHGJV\n",
      "Chuoi co ki tu in thuong: False\n"
     ]
    }
   ],
   "source": [
    "a = input(\"Nhap mot chuoi: \")\n",
    "b = not a.isupper()\n",
    "\n",
    "print(f'Chuoi co ki tu in thuong: {b}')"
   ]
  },
  {
   "cell_type": "markdown",
   "id": "eab86ecf",
   "metadata": {},
   "source": [
    "Nhập vào một chuỗi a và chuỗi b, tìm vị trí đầu tiên xuất hiện chuỗi b trong chuỗi a"
   ]
  },
  {
   "cell_type": "code",
   "execution_count": 11,
   "id": "051eb4af",
   "metadata": {},
   "outputs": [
    {
     "name": "stdout",
     "output_type": "stream",
     "text": [
      "Chuoi a: test\n",
      "Chuoi b: es\n",
      "Vi tri chuoi b: 1\n"
     ]
    }
   ],
   "source": [
    "a = input(\"Chuoi a: \")\n",
    "b = input(\"Chuoi b: \")\n",
    "x = a.find(b)\n",
    "\n",
    "print(f\"Vi tri chuoi b: {x}\")"
   ]
  },
  {
   "cell_type": "markdown",
   "id": "9239bc4e",
   "metadata": {},
   "source": [
    "Nhập vào một chuỗi a, hãy xóa từ đầu tiên trong chuỗi a, rồi in ra màn hình"
   ]
  },
  {
   "cell_type": "code",
   "execution_count": 13,
   "id": "90967cd9",
   "metadata": {},
   "outputs": [
    {
     "name": "stdout",
     "output_type": "stream",
     "text": [
      "Chuoi a: Hello World! This is test.\n",
      " World! This is test.\n"
     ]
    }
   ],
   "source": [
    "a = input(\"Chuoi a: \")\n",
    "x = a.find(\" \")\n",
    "b = a[x+1::]\n",
    "print(b)"
   ]
  },
  {
   "cell_type": "markdown",
   "id": "05b74fb4",
   "metadata": {},
   "source": [
    "### Bài 1\n",
    "\n",
    "Nhập vào một chuỗi, đếm xem có bao nhiêu từ trong chuỗi kết thúc bằng chữ n"
   ]
  },
  {
   "cell_type": "code",
   "execution_count": 16,
   "id": "d126675c",
   "metadata": {},
   "outputs": [
    {
     "name": "stdout",
     "output_type": "stream",
     "text": [
      "Chuoi a: sdhfnajshbdn ajhsbjfn ajhsbn ajhsbdfsnjahsn\n",
      "3\n"
     ]
    }
   ],
   "source": [
    "##Chuoi khong co ki tu dac biet, ngoai tru .,\n",
    "a = input(\"Chuoi a: \")\n",
    "a = a+ \" \"\n",
    "x = a.count('n ') + a.count('n.') + a.count('n.,')\n",
    "print(x)"
   ]
  },
  {
   "cell_type": "markdown",
   "id": "53a78d35",
   "metadata": {},
   "source": [
    "### Bài 2\n",
    "\n",
    "Nhập vào một chuỗi, kiểm tra xem chuỗi đó có ký tự hoa hoặc ký tự thường hay không."
   ]
  },
  {
   "cell_type": "code",
   "execution_count": null,
   "id": "f5be8c39",
   "metadata": {},
   "outputs": [],
   "source": []
  },
  {
   "cell_type": "markdown",
   "id": "64ca662e",
   "metadata": {},
   "source": [
    "### Bài 3\n",
    "\n",
    "Nhập vào một chuỗi, kiểm tra tính đối xứng của chuỗi đó"
   ]
  },
  {
   "cell_type": "code",
   "execution_count": 19,
   "id": "749f4136",
   "metadata": {},
   "outputs": [
    {
     "name": "stdout",
     "output_type": "stream",
     "text": [
      "Chuoi a: 123412\n",
      "Chuoi doi xung: False\n"
     ]
    }
   ],
   "source": [
    "a = input(\"Chuoi a: \")\n",
    "b = a[::-1]\n",
    "c = a==b\n",
    "print(f\"Chuoi doi xung: {c}\")"
   ]
  },
  {
   "cell_type": "markdown",
   "id": "85dd8fef",
   "metadata": {},
   "source": [
    "### Bài 4\n",
    "\n",
    "Nhập vào một chuỗi, in ra các ký tự trong chuỗi và nếu là ký tự hoa thì in kèm True, ký tự thường thì in kèm False"
   ]
  },
  {
   "cell_type": "code",
   "execution_count": 26,
   "id": "0d099247",
   "metadata": {},
   "outputs": [
    {
     "name": "stdout",
     "output_type": "stream",
     "text": [
      "Chuoi a: Hello\n",
      "H True\n",
      "e False\n",
      "l False\n",
      "l False\n",
      "o False\n"
     ]
    }
   ],
   "source": [
    "a = input(\"Chuoi a: \")\n",
    "for i in a:\n",
    "    print(i, i.isupper())\n"
   ]
  },
  {
   "cell_type": "markdown",
   "id": "1373dc74",
   "metadata": {},
   "source": [
    "### Bài 5\n",
    "\n",
    "Nhập vào một chuỗi, tìm các ký tự chỉ xuất hiện một lần trong chuỗi (nếu xuất hiện 1 lần in true, xuất hiện nhiều lần in false)\n",
    "\n",
    "Ví dụ:\n",
    "\n",
    "Nhập chuỗi: \"ABAbc\"\n",
    "\n",
    "In:\n",
    "\n",
    "A: False\n",
    "\n",
    "B: True\n",
    "\n",
    "A: False\n",
    "\n",
    "b: True\n",
    "\n",
    "c: True"
   ]
  },
  {
   "cell_type": "code",
   "execution_count": 27,
   "id": "a93bc53d",
   "metadata": {},
   "outputs": [
    {
     "name": "stdout",
     "output_type": "stream",
     "text": [
      "Chuoi a: ABAbc\n",
      "A False\n",
      "B True\n",
      "A False\n",
      "b True\n",
      "c True\n"
     ]
    }
   ],
   "source": [
    "a = input(\"Chuoi a: \")\n",
    "for i in a:\n",
    "    print(i, a.count(i)==1)"
   ]
  },
  {
   "cell_type": "markdown",
   "id": "69bebf4c",
   "metadata": {},
   "source": [
    "### Bài 6\n",
    "\n",
    "Nhập vào một chuỗi, kiểm tra trong chuỗi có con số hay không, nếu có in True, không có in False"
   ]
  },
  {
   "cell_type": "code",
   "execution_count": 31,
   "id": "1b4eab4f",
   "metadata": {},
   "outputs": [
    {
     "name": "stdout",
     "output_type": "stream",
     "text": [
      "Chuoi a: ashbfd\n",
      "False\n"
     ]
    }
   ],
   "source": [
    "a = input(\"Chuoi a: \")\n",
    "kq = False\n",
    "for i in a:\n",
    "    kq = kq or i.isnumeric()\n",
    "    \n",
    "print(kq)"
   ]
  },
  {
   "cell_type": "code",
   "execution_count": 9,
   "id": "ed0284bc",
   "metadata": {},
   "outputs": [
    {
     "name": "stdout",
     "output_type": "stream",
     "text": [
      "Chuoi a: sdgsgs2\n",
      "True\n"
     ]
    }
   ],
   "source": [
    "a = input(\"Chuoi a: \")\n",
    "kq =False\n",
    "for i in range(10):\n",
    "    i = str(i)\n",
    "    kq = a.count(i)>0 or kq\n",
    "print(kq)"
   ]
  },
  {
   "cell_type": "markdown",
   "id": "1e51403c",
   "metadata": {},
   "source": [
    "### Bài 7\n",
    "\n",
    "Nhập vào một chuỗi, tách những con số có trong chuỗi ra rồi tính tổng của chúng\n",
    "\n",
    "In tổng lên màn hình"
   ]
  },
  {
   "cell_type": "code",
   "execution_count": 11,
   "id": "a34e349d",
   "metadata": {},
   "outputs": [
    {
     "name": "stdout",
     "output_type": "stream",
     "text": [
      "Chuoi a: sdfsq4q084mnb9q8439q\n",
      "The total is: 49\n"
     ]
    }
   ],
   "source": [
    "a = input(\"Chuoi a: \")\n",
    "total =0\n",
    "for i in range(10):\n",
    "    kq = a.count(str(i))\n",
    "    total = total + kq*i\n",
    "print(f\"The total is: {total}\")\n",
    "    \n",
    "    "
   ]
  },
  {
   "cell_type": "markdown",
   "id": "e951779d",
   "metadata": {},
   "source": [
    "### Bài 8\n",
    "\n",
    "Nhập vào một chuỗi, đảo ngược chuỗi đã nhập rồi in ra màn hình"
   ]
  },
  {
   "cell_type": "code",
   "execution_count": 12,
   "id": "9305f0f1",
   "metadata": {},
   "outputs": [
    {
     "name": "stdout",
     "output_type": "stream",
     "text": [
      "Chuoi a: Hello\n",
      "olleH\n"
     ]
    }
   ],
   "source": [
    "a = input(\"Chuoi a: \")\n",
    "b = a[::-1]\n",
    "print(b)"
   ]
  },
  {
   "cell_type": "markdown",
   "id": "04194b5c",
   "metadata": {},
   "source": [
    "### Bài 9\n",
    "\n",
    "Nhập vào một chuỗi, kiểm tra xem mỗi từ trong chuỗi có được viết hoa chữ cái đầu hay không, nếu tất cả đều được viết hoa thì in ra True, còn không thì in ra False\n",
    "\n",
    "Trong trường hợp là False, hãy viết hoa tất cả các chữ cái đầu của mỗi từ rồi in lên màn hình\n",
    "\n",
    "Cách làm thông thường:"
   ]
  },
  {
   "cell_type": "code",
   "execution_count": 4,
   "id": "9f947c7d",
   "metadata": {},
   "outputs": [
    {
     "name": "stdout",
     "output_type": "stream",
     "text": [
      "Chuoi a: Hello World! My Name Is\n",
      "True\n",
      "Hello World! My Name Is\n"
     ]
    }
   ],
   "source": [
    "a = input(\"Chuoi a: \")\n",
    "b = a.split(\" \")\n",
    "c = \"\"\n",
    "kq = True\n",
    "for i in range(len(b)):\n",
    "    kq = b[i][0].isupper() and kq\n",
    "    c =c + b[i].capitalize() + \" \"\n",
    "c = c.strip()  \n",
    "print(kq)\n",
    "\n",
    "print(c)"
   ]
  },
  {
   "cell_type": "code",
   "execution_count": 8,
   "id": "dd7dce96",
   "metadata": {},
   "outputs": [
    {
     "name": "stdout",
     "output_type": "stream",
     "text": [
      "Chuoi a: hello World\n",
      "False\n",
      "Hello World\n"
     ]
    }
   ],
   "source": [
    "a = input(\"Chuoi a: \")\n",
    "b = a.split(\" \")\n",
    "c = \"\"\n",
    "kq = True\n",
    "for i in range(len(b)):\n",
    "    d = b[i]\n",
    "    kq = d[0].isupper() and kq\n",
    "    c =c + b[i].capitalize() + \" \"\n",
    "c = c.strip()  \n",
    "print(kq)\n",
    "\n",
    "print(c)"
   ]
  },
  {
   "cell_type": "markdown",
   "id": "f43e32af",
   "metadata": {},
   "source": [
    "Cách sử dụng lệnh có sẵn:"
   ]
  },
  {
   "cell_type": "code",
   "execution_count": 7,
   "id": "714f1412",
   "metadata": {},
   "outputs": [
    {
     "name": "stdout",
     "output_type": "stream",
     "text": [
      "Chuoi a: hello world\n",
      "Hello world\n"
     ]
    }
   ],
   "source": [
    "a = input(\"Chuoi a: \")\n",
    "b = a.capitalize()\n",
    "print(b)"
   ]
  },
  {
   "cell_type": "code",
   "execution_count": null,
   "id": "0b61d44e",
   "metadata": {},
   "outputs": [],
   "source": []
  }
 ],
 "metadata": {
  "kernelspec": {
   "display_name": "Python 3 (ipykernel)",
   "language": "python",
   "name": "python3"
  },
  "language_info": {
   "codemirror_mode": {
    "name": "ipython",
    "version": 3
   },
   "file_extension": ".py",
   "mimetype": "text/x-python",
   "name": "python",
   "nbconvert_exporter": "python",
   "pygments_lexer": "ipython3",
   "version": "3.9.15"
  }
 },
 "nbformat": 4,
 "nbformat_minor": 5
}
